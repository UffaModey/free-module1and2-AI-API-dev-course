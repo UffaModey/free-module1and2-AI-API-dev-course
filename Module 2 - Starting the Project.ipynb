{
 "cells": [
  {
   "cell_type": "markdown",
   "id": "684919bf-d3de-47cd-bb7d-7f6ba235497b",
   "metadata": {},
   "source": [
    "# 📘 Module 2: Starting the Project\n",
    "\n",
    "🎯 **Goal**: Prepare your local dev environment.\n",
    "\n",
    "---\n",
    "## Project Repo\n",
    "You can view the [full project repo on GitHub](https://github.com/UffaModey/pictures2pages). This showcases the fully built project codebase. Follow the steps in this course modules to go through the process of building it incrementally from scratch and including new features with each module.\n",
    "\n",
    "## Create GitHub Repo for the project and clone it locally\n",
    "Head over to [GitHub.com](https://github.com/) and:\n",
    "\n",
    "1. Click the ➕ icon in the top right, then choose **\"New repository\"**.\n",
    "2. Give it a name — e.g., `pictures2pages`.\n",
    "3. (Optional) Add a description.\n",
    "4. Set it to **Public** or **Private** (up to you).\n",
    "5. ✅ **Initialize with a README** and `.gitignore` for Python.\n",
    "6. Click **Create repository**."
   ]
  },
  {
   "cell_type": "markdown",
   "id": "b3128e79-5efa-4723-ad20-f80d5b73e807",
   "metadata": {},
   "source": [
    "### 📦 Create a Local Folder for Your Project\n",
    "\n",
    "On your PC CLI, run the following commmands:"
   ]
  },
  {
   "cell_type": "markdown",
   "id": "895f4446-679b-4bff-838a-e3e1f79807b4",
   "metadata": {},
   "source": [
    "```bash\n",
    "mkdir pictures2pages\n",
    "cd pictures2pages\n",
    "git init\n",
    "```"
   ]
  },
  {
   "cell_type": "markdown",
   "id": "388d1183-1131-41bd-a5b6-d045708d65cf",
   "metadata": {},
   "source": [
    "### 🧪 Create a Virtual Environment"
   ]
  },
  {
   "cell_type": "markdown",
   "id": "c54964fa-92d9-4e08-a10b-07ed789e52a2",
   "metadata": {},
   "source": [
    "Creating a virtual environment helps isolate project dependencies."
   ]
  },
  {
   "cell_type": "markdown",
   "id": "6e400002-82a7-4404-aefe-91bbc1727b75",
   "metadata": {},
   "source": [
    "```bash\n",
    "python -m venv venv\n",
    "source venv/bin/activate  # On Windows: venv\\Scripts\\activate\n",
    "```"
   ]
  },
  {
   "cell_type": "markdown",
   "id": "80c92bbd-b536-403a-802c-0bf43c5d6079",
   "metadata": {},
   "source": [
    "You should now see (venv) at the start of your terminal line — that means it's activated."
   ]
  },
  {
   "cell_type": "markdown",
   "id": "a3c48009-d70d-491e-9491-b73ce3dc1d9f",
   "metadata": {},
   "source": [
    "\n",
    "## 🛠️ Use Cookiecutter to Scaffold a FastAPI App\n",
    "\n",
    "We’ll use a template called [cookiecutter-fastapi](https://github.com/tiangolo/full-stack-fastapi-postgresql) to quickly start our project with best practices.\n",
    "\n",
    "### 👇 Let's Install Cookiecutter\n",
    "In your local project Github repo, create and activate a virtual environment where you will install cookiecutter in."
   ]
  },
  {
   "cell_type": "markdown",
   "id": "40099cae-7cd7-44df-8452-dc18342db646",
   "metadata": {},
   "source": [
    "```bash\n",
    "pip install cookiecutter\n",
    "```"
   ]
  },
  {
   "cell_type": "markdown",
   "id": "75dc82b5-2d22-4584-b96b-3cab15adf3ae",
   "metadata": {},
   "source": [
    "### 📦 Scaffold Your Project"
   ]
  },
  {
   "cell_type": "markdown",
   "id": "92969804-486b-4003-a491-87989f1b78af",
   "metadata": {},
   "source": [
    "```bash\n",
    "cookiecutter https://github.com/zhiwei2017/FastAPI-Cookiecutter.git\n",
    "```"
   ]
  },
  {
   "cell_type": "markdown",
   "id": "f3f1e251-1d86-42df-acd3-4009bb8c5a5a",
   "metadata": {},
   "source": [
    "Run the command above. You’ll be asked a few questions. Here are suggested answers:\n",
    "![Cookiecutter project set up](images/cookiecutter-setup.png)\n",
    "\n",
    "project_name: pictures2pages\n",
    "\n",
    "domain_main: localhost\n",
    "\n",
    "backend_cors_origins: [\"*\"]\n",
    "\n",
    "frontend: no\n",
    "\n",
    "postgres password: choose something secure (e.g., mysecurepassword)\n",
    "\n",
    "👉 This will create a full project folder for you with backend/, docker/, and more.\n",
    "\n",
    "### ✅ After Running Cookiecutter\n",
    "You now have:\n",
    "A FastAPI app in the backend folder\n",
    "A Dockerized PostgreSQL database\n",
    "A ready-to-run API development setup!\n",
    "\n",
    "### 🐘 PostgreSQL + Docker: The Local Setup\n",
    "We’ll use Docker to run PostgreSQL locally so that we don’t need to install it manually.\n",
    "\n",
    "## ▶️ Run the App Locally\n",
    "From the root of your generated project, run:\n"
   ]
  },
  {
   "cell_type": "markdown",
   "id": "ea58d09a-5570-4b9d-be0c-7aa31b2c62cd",
   "metadata": {},
   "source": [
    "```bash\n",
    "docker compose up --build\n",
    "```"
   ]
  },
  {
   "cell_type": "markdown",
   "id": "229d21d6-9437-41c8-8de4-13bbfdbc43dc",
   "metadata": {},
   "source": [
    "⏳ Wait a few moments for Docker to set everything up.\n",
    "\n",
    "You should see logs indicating the database and backend are running on your Pycharm terminal. You can also go over to your Docker Desktop app to view the running app containers.\n",
    "\n",
    "![App Running locally on Docker](images/module_2/app_running_locally_on_docker.png)\n",
    "\n",
    "## 🌐 Check the API Docs\n",
    "Once it’s running, open your browser and go to:\n",
    "\n",
    "http://localhost:8000/docs\n",
    "You’ll see a beautiful Swagger UI where you can test your API endpoints!\n",
    "\n",
    "![Successful First App Deployment Swagger Docs](images/module_2/success_first_deploy_swagger_docs.png)\n",
    "\n",
    "## 🎉 What You’ve Done So Far\n",
    "- ✅ Set up your environment using Cookiecutter + Docker\n",
    "- ✅ Viewed your auto-documented API locally\n",
    "\n",
    "🚀 Next Up: Building Your Models & APIs\n",
    "In the next module, we’ll define our database models (users, images, generated_content) and build the CRUD APIs to handle them.\n",
    "\n",
    "👉 Save your progress, commit your code to GitHub:\n"
   ]
  },
  {
   "cell_type": "markdown",
   "id": "753d246b-e3ce-4165-bd1d-f05318e5691b",
   "metadata": {},
   "source": [
    "```bash\n",
    "git init\n",
    "git add .\n",
    "git commit -m \"Initial project setup with Cookiecutter\"\n",
    "git push origin main\n",
    "```"
   ]
  },
  {
   "cell_type": "markdown",
   "id": "12323b21-882d-4e9c-a30f-094a3f7aa8dc",
   "metadata": {},
   "source": [
    "See you in Module 3! 🎯"
   ]
  }
 ],
 "metadata": {
  "kernelspec": {
   "display_name": "Python 3 (ipykernel)",
   "language": "python",
   "name": "python3"
  },
  "language_info": {
   "codemirror_mode": {
    "name": "ipython",
    "version": 3
   },
   "file_extension": ".py",
   "mimetype": "text/x-python",
   "name": "python",
   "nbconvert_exporter": "python",
   "pygments_lexer": "ipython3",
   "version": "3.13.4"
  }
 },
 "nbformat": 4,
 "nbformat_minor": 5
}
